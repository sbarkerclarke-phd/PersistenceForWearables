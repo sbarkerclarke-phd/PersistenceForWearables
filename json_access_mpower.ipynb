{
  "nbformat": 4,
  "nbformat_minor": 0,
  "metadata": {
    "colab": {
      "name": "json_access_mpower.ipynb",
      "provenance": [],
      "collapsed_sections": [],
      "authorship_tag": "ABX9TyO4oYLvAhUQffmVaMP8ElQ7",
      "include_colab_link": true
    },
    "kernelspec": {
      "name": "python3",
      "display_name": "Python 3"
    },
    "language_info": {
      "name": "python"
    }
  },
  "cells": [
    {
      "cell_type": "markdown",
      "metadata": {
        "id": "view-in-github",
        "colab_type": "text"
      },
      "source": [
        "<a href=\"https://colab.research.google.com/github/sbarkerclarke-phd/PersistenceForWearables/blob/main/json_access_mpower.ipynb\" target=\"_parent\"><img src=\"https://colab.research.google.com/assets/colab-badge.svg\" alt=\"Open In Colab\"/></a>"
      ]
    },
    {
      "cell_type": "code",
      "source": [
        "!pip install synapseclient"
      ],
      "metadata": {
        "id": "qgJMRaa8ejCE"
      },
      "execution_count": null,
      "outputs": []
    },
    {
      "cell_type": "code",
      "source": [
        "import synapseutils\n",
        "import synapseclient\n",
        "import json \n",
        "\n",
        "syn = synapseclient.Synapse()\n",
        "\n",
        "syn.login('username', 'password!')"
      ],
      "metadata": {
        "id": "-gI_v6NOfc2u"
      },
      "execution_count": null,
      "outputs": []
    },
    {
      "cell_type": "code",
      "source": [
        "result = syn.tableQuery(\"select * from syn5713119\") #Synapse id of sample walking table \n",
        "files = syn.downloadTableColumns(result, ['accel_walking_outbound.json.items']) #Download 20 files for outbound walking\n"
      ],
      "metadata": {
        "colab": {
          "base_uri": "https://localhost:8080/"
        },
        "id": "jsIDyzhyhxki",
        "outputId": "cf899fdd-d9b1-4093-a09d-58b8888fa85b"
      },
      "execution_count": null,
      "outputs": [
        {
          "output_type": "stream",
          "name": "stdout",
          "text": [
            "Downloading 20 files, 0 cached locally\n"
          ]
        }
      ]
    },
    {
      "cell_type": "code",
      "source": [
        "f = open(files['5413083']) #Example of file ids/keys as listed in files "
      ],
      "metadata": {
        "id": "mRBDSJbRkoFy"
      },
      "execution_count": null,
      "outputs": []
    },
    {
      "cell_type": "code",
      "source": [
        "data=json.load(f)\n",
        "data"
      ],
      "metadata": {
        "id": "l5u2RB3tlGkI"
      },
      "execution_count": null,
      "outputs": []
    }
  ]
}